{
  "cells": [
    {
      "cell_type": "code",
      "execution_count": 1,
      "metadata": {
        "colab": {
          "base_uri": "https://localhost:8080/"
        },
        "id": "a_KW73O2e3dw",
        "outputId": "80eaa060-927a-445a-af20-f9d1f74c6e6f"
      },
      "outputs": [
        {
          "output_type": "stream",
          "name": "stdout",
          "text": [
            "Requirement already satisfied: findspark in /usr/local/lib/python3.10/dist-packages (2.0.1)\n"
          ]
        }
      ],
      "source": [
        "# Import findspark and initialize.\n",
        "!pip install findspark\n",
        "\n",
        "import findspark\n",
        "findspark.init()"
      ]
    },
    {
      "cell_type": "code",
      "execution_count": 2,
      "metadata": {
        "id": "2XbWNf1Te5fM"
      },
      "outputs": [],
      "source": [
        "# Import packages\n",
        "from pyspark.sql import SparkSession\n",
        "from pyspark.sql.functions import year, col\n",
        "import time\n",
        "\n",
        "# Create a SparkSession\n",
        "spark = SparkSession.builder.appName(\"SparkSQL\").getOrCreate()"
      ]
    },
    {
      "cell_type": "code",
      "execution_count": 3,
      "metadata": {
        "id": "wOJqxG_RPSwp"
      },
      "outputs": [],
      "source": [
        "# 1. Read in the AWS S3 bucket into a DataFrame.\n",
        "from pyspark import SparkFiles\n",
        "url = \"https://2u-data-curriculum-team.s3.amazonaws.com/dataviz-classroom/v1.2/22-big-data/home_sales_revised.csv\"\n",
        "\n"
      ]
    },
    {
      "cell_type": "code",
      "execution_count": 4,
      "metadata": {
        "id": "RoljcJ7WPpnm",
        "colab": {
          "base_uri": "https://localhost:8080/"
        },
        "outputId": "d6d0ce37-339b-40e2-ea15-0fa75b3482e7"
      },
      "outputs": [
        {
          "output_type": "stream",
          "name": "stdout",
          "text": [
            "+--------------------+----------+----------+------+--------+---------+-----------+--------+------+----------+----+\n",
            "|                  id|      date|date_built| price|bedrooms|bathrooms|sqft_living|sqft_lot|floors|waterfront|view|\n",
            "+--------------------+----------+----------+------+--------+---------+-----------+--------+------+----------+----+\n",
            "|f8a53099-ba1c-47d...|2022-04-08|      2016|936923|       4|        3|       3167|   11733|     2|         1|  76|\n",
            "|7530a2d8-1ae3-451...|2021-06-13|      2013|379628|       2|        2|       2235|   14384|     1|         0|  23|\n",
            "|43de979c-0bf0-4c9...|2019-04-12|      2014|417866|       2|        2|       2127|   10575|     2|         0|   0|\n",
            "|b672c137-b88c-48b...|2019-10-16|      2016|239895|       2|        2|       1631|   11149|     2|         0|   0|\n",
            "|e0726d4d-d595-407...|2022-01-08|      2017|424418|       3|        2|       2249|   13878|     2|         0|   4|\n",
            "|5aa00529-0533-46b...|2019-01-30|      2017|218712|       2|        3|       1965|   14375|     2|         0|   7|\n",
            "|131492a1-72e2-4a8...|2020-02-08|      2017|419199|       2|        3|       2062|    8876|     2|         0|   6|\n",
            "|8d54a71b-c520-44e...|2019-07-21|      2010|323956|       2|        3|       1506|   11816|     1|         0|  25|\n",
            "|e81aacfe-17fe-46b...|2020-06-16|      2016|181925|       3|        3|       2137|   11709|     2|         0|  22|\n",
            "|2ed8d509-7372-46d...|2021-08-06|      2015|258710|       3|        3|       1918|    9666|     1|         0|  25|\n",
            "|f876d86f-3c9f-42b...|2019-02-27|      2011|167864|       3|        3|       2471|   13924|     2|         0|  15|\n",
            "|0a2bd445-8508-4d8...|2021-12-30|      2014|337527|       2|        3|       1926|   12556|     1|         0|  23|\n",
            "|941bad30-eb49-4a7...|2020-05-09|      2015|229896|       3|        3|       2197|    8641|     1|         0|   3|\n",
            "|dd61eb34-6589-4c0...|2021-07-25|      2016|210247|       3|        2|       1672|   11986|     2|         0|  28|\n",
            "|f1e4cef7-d151-439...|2019-02-01|      2011|398667|       2|        3|       2331|   11356|     1|         0|   7|\n",
            "|ea620c7b-c2f7-4c6...|2021-05-31|      2011|437958|       3|        3|       2356|   11052|     1|         0|  26|\n",
            "|f233cb41-6f33-4b0...|2021-07-18|      2016|437375|       4|        3|       1704|   11721|     2|         0|  34|\n",
            "|c797ca12-52cd-4b1...|2019-06-08|      2015|288650|       2|        3|       2100|   10419|     2|         0|   7|\n",
            "|0cfe57f3-28c2-472...|2019-10-04|      2015|308313|       3|        3|       1960|    9453|     2|         0|   2|\n",
            "|4566cd2a-ac6e-435...|2019-07-15|      2016|177541|       3|        3|       2130|   10517|     2|         0|  25|\n",
            "+--------------------+----------+----------+------+--------+---------+-----------+--------+------+----------+----+\n",
            "only showing top 20 rows\n",
            "\n"
          ]
        }
      ],
      "source": [
        "# 2. Create a temporary view of the DataFrame.\n",
        "\n",
        "# Add the file from the URL to SparkFiles\n",
        "spark.sparkContext.addFile(url)\n",
        "\n",
        "# Read the CSV file into a DataFrame\n",
        "df = spark.read.csv(SparkFiles.get(\"home_sales_revised.csv\"), header=True, inferSchema=True)\n",
        "\n",
        "# Show the DataFrame to ensure the file is loaded correctly\n",
        "df.show()\n",
        "\n",
        "# Create a temporary view of the DataFrame\n",
        "df.createOrReplaceTempView(\"home_sales\")\n"
      ]
    },
    {
      "cell_type": "code",
      "execution_count": 5,
      "metadata": {
        "colab": {
          "base_uri": "https://localhost:8080/"
        },
        "id": "L6fkwOeOmqvq",
        "outputId": "69e3f65c-7aec-42f4-b34f-9f0a37aafb5c"
      },
      "outputs": [
        {
          "output_type": "stream",
          "name": "stdout",
          "text": [
            "+----------+---------+\n",
            "|year_built|avg_price|\n",
            "+----------+---------+\n",
            "|      2010|296800.75|\n",
            "|      2011| 302141.9|\n",
            "|      2012|298233.42|\n",
            "|      2013|299999.39|\n",
            "|      2014|299073.89|\n",
            "|      2015|307908.86|\n",
            "|      2016|296050.24|\n",
            "|      2017|296576.69|\n",
            "+----------+---------+\n",
            "\n"
          ]
        }
      ],
      "source": [
        "# 3. What is the average price for a four bedroom house sold per year, rounded to two decimal places?\n",
        "\n",
        "query = \"\"\"\n",
        "SELECT\n",
        "    date_built AS year_built,\n",
        "    ROUND(AVG(price), 2) AS avg_price\n",
        "FROM\n",
        "    home_sales\n",
        "WHERE\n",
        "    bedrooms = 4\n",
        "GROUP BY\n",
        "    date_built\n",
        "ORDER BY\n",
        "    date_built\n",
        "\"\"\"\n",
        "\n",
        "# Execute the query\n",
        "result = spark.sql(query)\n",
        "\n",
        "# Show the results\n",
        "result.show()\n",
        "\n"
      ]
    },
    {
      "cell_type": "code",
      "execution_count": 6,
      "metadata": {
        "colab": {
          "base_uri": "https://localhost:8080/"
        },
        "id": "l8p_tUS8h8it",
        "outputId": "bcddea36-cec8-4960-cae2-861a63354ace"
      },
      "outputs": [
        {
          "output_type": "stream",
          "name": "stdout",
          "text": [
            "+----------+---------+\n",
            "|year_built|avg_price|\n",
            "+----------+---------+\n",
            "|      2010|292859.62|\n",
            "|      2011|291117.47|\n",
            "|      2012|293683.19|\n",
            "|      2013|295962.27|\n",
            "|      2014|290852.27|\n",
            "|      2015| 288770.3|\n",
            "|      2016|290555.07|\n",
            "|      2017|292676.79|\n",
            "+----------+---------+\n",
            "\n"
          ]
        }
      ],
      "source": [
        "# 4. What is the average price of a home for each year the home was built,\n",
        "# that have 3 bedrooms and 3 bathrooms, rounded to two decimal places?\n",
        "\n",
        "query = \"\"\"\n",
        "SELECT\n",
        "    date_built AS year_built,\n",
        "    ROUND(AVG(price), 2) AS avg_price\n",
        "FROM\n",
        "    home_sales\n",
        "WHERE\n",
        "    bedrooms = 3 AND bathrooms = 3\n",
        "GROUP BY\n",
        "    date_built\n",
        "ORDER BY\n",
        "    date_built\n",
        "\"\"\"\n",
        "\n",
        "# Execute the query\n",
        "result = spark.sql(query)\n",
        "\n",
        "# Show the results\n",
        "result.show()\n",
        "\n"
      ]
    },
    {
      "cell_type": "code",
      "execution_count": 7,
      "metadata": {
        "colab": {
          "base_uri": "https://localhost:8080/"
        },
        "id": "Y-Eytz64liDU",
        "outputId": "aa449357-4f8d-4694-e884-9997e945101d"
      },
      "outputs": [
        {
          "output_type": "stream",
          "name": "stdout",
          "text": [
            "+----------+---------+\n",
            "|year_built|avg_price|\n",
            "+----------+---------+\n",
            "|      2010|285010.22|\n",
            "|      2011|276553.81|\n",
            "|      2012|307539.97|\n",
            "|      2013|303676.79|\n",
            "|      2014|298264.72|\n",
            "|      2015|297609.97|\n",
            "|      2016| 293965.1|\n",
            "|      2017|280317.58|\n",
            "+----------+---------+\n",
            "\n"
          ]
        }
      ],
      "source": [
        "# 5. What is the average price of a home for each year the home was built,\n",
        "# that have 3 bedrooms, 3 bathrooms, with two floors,\n",
        "# and are greater than or equal to 2,000 square feet, rounded to two decimal places?\n",
        "\n",
        "query = \"\"\"\n",
        "SELECT\n",
        "    date_built AS year_built,\n",
        "    ROUND(AVG(price), 2) AS avg_price\n",
        "FROM\n",
        "    home_sales\n",
        "WHERE\n",
        "    bedrooms = 3\n",
        "    AND bathrooms = 3\n",
        "    AND floors = 2\n",
        "    AND sqft_living >= 2000\n",
        "GROUP BY\n",
        "    date_built\n",
        "ORDER BY\n",
        "    date_built\n",
        "\"\"\"\n",
        "\n",
        "# Execute the query\n",
        "result = spark.sql(query)\n",
        "\n",
        "# Show the results\n",
        "result.show()\n"
      ]
    },
    {
      "cell_type": "code",
      "execution_count": 8,
      "metadata": {
        "colab": {
          "base_uri": "https://localhost:8080/"
        },
        "id": "GUrfgOX1pCRd",
        "outputId": "e708ebcf-5ee1-4b28-a439-6b3727657577"
      },
      "outputs": [
        {
          "output_type": "stream",
          "name": "stdout",
          "text": [
            "+----+----------+\n",
            "|view| avg_price|\n",
            "+----+----------+\n",
            "| 100| 1026669.5|\n",
            "|  99|1061201.42|\n",
            "|  98|1053739.33|\n",
            "|  97|1129040.15|\n",
            "|  96|1017815.92|\n",
            "|  95| 1054325.6|\n",
            "|  94| 1033536.2|\n",
            "|  93|1026006.06|\n",
            "|  92| 970402.55|\n",
            "|  91|1137372.73|\n",
            "|  90|1062654.16|\n",
            "|  89|1107839.15|\n",
            "|  88|1031719.35|\n",
            "|  87| 1072285.2|\n",
            "|  86|1070444.25|\n",
            "|  85|1056336.74|\n",
            "|  84|1117233.13|\n",
            "|  83|1033965.93|\n",
            "|  82| 1063498.0|\n",
            "|  81|1053472.79|\n",
            "+----+----------+\n",
            "only showing top 20 rows\n",
            "\n",
            "--- 1.4403088092803955 seconds ---\n"
          ]
        }
      ],
      "source": [
        "# 6. What is the average price of a home per \"view\" rating, rounded to two decimal places,\n",
        "# having an average home price greater than or equal to $350,000? Order by descending view rating.\n",
        "# Although this is a small dataset, determine the run time for this query.\n",
        "\n",
        "start_time = time.time()\n",
        "\n",
        "query = \"\"\"\n",
        "SELECT\n",
        "    view,\n",
        "    ROUND(AVG(price), 2) AS avg_price\n",
        "FROM\n",
        "    home_sales\n",
        "GROUP BY\n",
        "    view\n",
        "HAVING\n",
        "    AVG(price) >= 350000\n",
        "ORDER BY\n",
        "    view DESC\n",
        "\"\"\"\n",
        "\n",
        "# Execute the query\n",
        "result = spark.sql(query)\n",
        "\n",
        "# Show the results\n",
        "result.show()\n",
        "\n",
        "print(\"--- %s seconds ---\" % (time.time() - start_time))"
      ]
    },
    {
      "cell_type": "code",
      "execution_count": 9,
      "metadata": {
        "colab": {
          "base_uri": "https://localhost:8080/"
        },
        "id": "KAhk3ZD2tFy8",
        "outputId": "7e1c50c1-47f3-431c-a3d4-43f1f180d9a4"
      },
      "outputs": [
        {
          "output_type": "execute_result",
          "data": {
            "text/plain": [
              "DataFrame[]"
            ]
          },
          "metadata": {},
          "execution_count": 9
        }
      ],
      "source": [
        "# 7. Cache the the temporary table home_sales.\n",
        "\n",
        "spark.sql(\"CACHE TABLE home_sales\")\n"
      ]
    },
    {
      "cell_type": "code",
      "execution_count": 10,
      "metadata": {
        "colab": {
          "base_uri": "https://localhost:8080/"
        },
        "id": "4opVhbvxtL-i",
        "outputId": "46de8e31-b086-41c2-8f44-6cd5c324e49c"
      },
      "outputs": [
        {
          "output_type": "execute_result",
          "data": {
            "text/plain": [
              "True"
            ]
          },
          "metadata": {},
          "execution_count": 10
        }
      ],
      "source": [
        "# 8. Check if the table is cached.\n",
        "spark.catalog.isCached('home_sales')"
      ]
    },
    {
      "cell_type": "code",
      "execution_count": 11,
      "metadata": {
        "colab": {
          "base_uri": "https://localhost:8080/"
        },
        "id": "5GnL46lwTSEk",
        "outputId": "fa1f2e4d-67eb-4820-ca44-afa686c497b4"
      },
      "outputs": [
        {
          "output_type": "stream",
          "name": "stdout",
          "text": [
            "+----+----------+\n",
            "|view| avg_price|\n",
            "+----+----------+\n",
            "| 100| 1026669.5|\n",
            "|  99|1061201.42|\n",
            "|  98|1053739.33|\n",
            "|  97|1129040.15|\n",
            "|  96|1017815.92|\n",
            "|  95| 1054325.6|\n",
            "|  94| 1033536.2|\n",
            "|  93|1026006.06|\n",
            "|  92| 970402.55|\n",
            "|  91|1137372.73|\n",
            "|  90|1062654.16|\n",
            "|  89|1107839.15|\n",
            "|  88|1031719.35|\n",
            "|  87| 1072285.2|\n",
            "|  86|1070444.25|\n",
            "|  85|1056336.74|\n",
            "|  84|1117233.13|\n",
            "|  83|1033965.93|\n",
            "|  82| 1063498.0|\n",
            "|  81|1053472.79|\n",
            "+----+----------+\n",
            "only showing top 20 rows\n",
            "\n",
            "--- Cached query runtime: 0.7785050868988037 seconds ---\n",
            "+----+----------+\n",
            "|view| avg_price|\n",
            "+----+----------+\n",
            "| 100| 1026669.5|\n",
            "|  99|1061201.42|\n",
            "|  98|1053739.33|\n",
            "|  97|1129040.15|\n",
            "|  96|1017815.92|\n",
            "|  95| 1054325.6|\n",
            "|  94| 1033536.2|\n",
            "|  93|1026006.06|\n",
            "|  92| 970402.55|\n",
            "|  91|1137372.73|\n",
            "|  90|1062654.16|\n",
            "|  89|1107839.15|\n",
            "|  88|1031719.35|\n",
            "|  87| 1072285.2|\n",
            "|  86|1070444.25|\n",
            "|  85|1056336.74|\n",
            "|  84|1117233.13|\n",
            "|  83|1033965.93|\n",
            "|  82| 1063498.0|\n",
            "|  81|1053472.79|\n",
            "+----+----------+\n",
            "only showing top 20 rows\n",
            "\n",
            "--- Uncached query runtime: 1.0564358234405518 seconds ---\n",
            "Performance improvement: 0.28 seconds\n"
          ]
        }
      ],
      "source": [
        "# 9. Using the cached data, run the last query above, that calculates\n",
        "# the average price of a home per \"view\" rating, rounded to two decimal places,\n",
        "# having an average home price greater than or equal to $350,000.\n",
        "# Determine the runtime and compare it to the uncached runtime.\n",
        "\n",
        "start_time = time.time()\n",
        "\n",
        "query = \"\"\"\n",
        "SELECT\n",
        "    view,\n",
        "    ROUND(AVG(price), 2) AS avg_price\n",
        "FROM\n",
        "    home_sales\n",
        "GROUP BY\n",
        "    view\n",
        "HAVING\n",
        "    AVG(price) >= 350000\n",
        "ORDER BY\n",
        "    view DESC\n",
        "\"\"\"\n",
        "result_cached = spark.sql(query)\n",
        "\n",
        "# Show the results\n",
        "result_cached.show()\n",
        "\n",
        "cached_runtime = time.time() - start_time\n",
        "print(\"--- Cached query runtime: %s seconds ---\" % cached_runtime)\n",
        "\n",
        "# For comparison, run the same query without caching\n",
        "\n",
        "spark.sql(\"UNCACHE TABLE home_sales\")\n",
        "\n",
        "# Start the timer for the uncached query\n",
        "start_time = time.time()\n",
        "\n",
        "# Execute the query without caching\n",
        "result_uncached = spark.sql(query)\n",
        "\n",
        "# Show the results\n",
        "result_uncached.show()\n",
        "\n",
        "# Stop the timer and calculate runtime\n",
        "uncached_runtime = time.time() - start_time\n",
        "print(\"--- Uncached query runtime: %s seconds ---\" % uncached_runtime)\n",
        "\n",
        "# Compare runtimes\n",
        "print(f\"Performance improvement: {uncached_runtime - cached_runtime:.2f} seconds\")\n"
      ]
    },
    {
      "cell_type": "code",
      "execution_count": 28,
      "metadata": {
        "id": "Qm12WN9isHBR",
        "colab": {
          "base_uri": "https://localhost:8080/"
        },
        "outputId": "bf2c0373-5f5b-4795-acc0-d70d3b128b98"
      },
      "outputs": [
        {
          "output_type": "stream",
          "name": "stdout",
          "text": [
            "Data successfully written to /content/drive/MyDrive/Home_Sales_Partioned in Parquet format, partitioned by 'date_built'.\n"
          ]
        }
      ],
      "source": [
        "# 10. Partition by the \"date_built\" field on the formatted parquet home sales data\n",
        "\n",
        "output_path = \"/content/drive/MyDrive/Home_Sales_Partioned\"\n",
        "\n",
        "# Write the DataFrame as partitioned Parquet files\n",
        "df.write.mode(\"overwrite\").partitionBy(\"date_built\").parquet(output_path)\n",
        "\n",
        "print(f\"Data successfully written to {output_path} in Parquet format, partitioned by 'date_built'.\")\n"
      ]
    },
    {
      "cell_type": "code",
      "source": [
        "from google.colab import drive\n",
        "drive.mount('/content/drive')"
      ],
      "metadata": {
        "colab": {
          "base_uri": "https://localhost:8080/"
        },
        "id": "hvDXzcQiW-fF",
        "outputId": "4dfae617-4295-482d-a383-112355fd2aa8"
      },
      "execution_count": 31,
      "outputs": [
        {
          "output_type": "stream",
          "name": "stdout",
          "text": [
            "Mounted at /content/drive\n"
          ]
        }
      ]
    },
    {
      "cell_type": "code",
      "source": [
        "!ls /content/drive/MyDrive/Home_Sales_Partioned\n"
      ],
      "metadata": {
        "colab": {
          "base_uri": "https://localhost:8080/"
        },
        "id": "f5s-TWfdb353",
        "outputId": "2a6a8b4f-d5ec-45b6-e5d5-314a9d6bec75"
      },
      "execution_count": 33,
      "outputs": [
        {
          "output_type": "stream",
          "name": "stdout",
          "text": [
            "'date_built=2010'  'date_built=2012'  'date_built=2014'  'date_built=2016'   _SUCCESS\n",
            "'date_built=2011'  'date_built=2013'  'date_built=2015'  'date_built=2017'\n"
          ]
        }
      ]
    },
    {
      "cell_type": "code",
      "execution_count": 16,
      "metadata": {
        "id": "AZ7BgY61sRqY",
        "colab": {
          "base_uri": "https://localhost:8080/"
        },
        "outputId": "9dd7778e-5d5a-4a6f-b9a8-44842f490c9e"
      },
      "outputs": [
        {
          "output_type": "stream",
          "name": "stdout",
          "text": [
            "+--------------------+----------+------+--------+---------+-----------+--------+------+----------+----+----------+\n",
            "|                  id|      date| price|bedrooms|bathrooms|sqft_living|sqft_lot|floors|waterfront|view|date_built|\n",
            "+--------------------+----------+------+--------+---------+-----------+--------+------+----------+----+----------+\n",
            "|2ed8d509-7372-46d...|2021-08-06|258710|       3|        3|       1918|    9666|     1|         0|  25|      2015|\n",
            "|941bad30-eb49-4a7...|2020-05-09|229896|       3|        3|       2197|    8641|     1|         0|   3|      2015|\n",
            "|c797ca12-52cd-4b1...|2019-06-08|288650|       2|        3|       2100|   10419|     2|         0|   7|      2015|\n",
            "|0cfe57f3-28c2-472...|2019-10-04|308313|       3|        3|       1960|    9453|     2|         0|   2|      2015|\n",
            "|d715f295-2fbf-4e9...|2021-05-17|391574|       3|        2|       1635|    8040|     2|         0|  10|      2015|\n",
            "|a18515a2-86f3-46b...|2022-02-18|419543|       3|        2|       1642|   12826|     2|         0|  24|      2015|\n",
            "|98f6a9ad-8870-474...|2022-05-07|136752|       2|        3|       1701|   10771|     2|         0|   5|      2015|\n",
            "|7ac67498-b6f3-403...|2021-05-12|349318|       4|        3|       2417|   11304|     2|         0|  37|      2015|\n",
            "|c9bfdb1c-2499-4e3...|2021-12-07|268874|       2|        2|       1537|   12177|     1|         0|  10|      2015|\n",
            "|34c31a34-220d-469...|2019-02-06|409011|       3|        3|       2356|   10507|     1|         0|   1|      2015|\n",
            "|be0ccb95-415d-411...|2020-05-15|425154|       4|        3|       2120|   14229|     2|         0|   4|      2015|\n",
            "|e9031a86-1294-444...|2021-10-09|222322|       4|        3|       1928|   10510|     1|         0|  38|      2015|\n",
            "|e6d7c2a7-596e-4ec...|2019-03-15|131201|       4|        3|       1633|   14655|     1|         0|  22|      2015|\n",
            "|6683714b-3df7-454...|2022-02-01|333403|       4|        2|       2059|    9793|     2|         0|   4|      2015|\n",
            "|00fc996f-508c-430...|2021-07-15|373139|       3|        3|       1763|   11363|     1|         0|  39|      2015|\n",
            "|3d5545f8-bd3b-476...|2020-09-19|797862|       4|        6|       3494|   10385|     2|         0|  90|      2015|\n",
            "|ec6d357c-2435-43e...|2019-05-28|401792|       3|        2|       1627|   10765|     1|         0|  50|      2015|\n",
            "|c2be38fb-814a-403...|2020-03-20|352237|       3|        3|       2485|   10954|     2|         0|   6|      2015|\n",
            "|9570de1f-5a74-45b...|2021-11-29|298453|       3|        2|       2222|   10634|     1|         0|   6|      2015|\n",
            "|1baeff4f-fc00-489...|2020-12-17|152775|       3|        2|       1623|   13851|     1|         0|  41|      2015|\n",
            "+--------------------+----------+------+--------+---------+-----------+--------+------+----------+----+----------+\n",
            "only showing top 20 rows\n",
            "\n",
            "root\n",
            " |-- id: string (nullable = true)\n",
            " |-- date: date (nullable = true)\n",
            " |-- price: integer (nullable = true)\n",
            " |-- bedrooms: integer (nullable = true)\n",
            " |-- bathrooms: integer (nullable = true)\n",
            " |-- sqft_living: integer (nullable = true)\n",
            " |-- sqft_lot: integer (nullable = true)\n",
            " |-- floors: integer (nullable = true)\n",
            " |-- waterfront: integer (nullable = true)\n",
            " |-- view: integer (nullable = true)\n",
            " |-- date_built: integer (nullable = true)\n",
            "\n"
          ]
        }
      ],
      "source": [
        "# 11. Read the formatted parquet data.\n",
        "\n",
        "# Read the Parquet data into a DataFrame\n",
        "parquet_df = spark.read.parquet(output_path)\n",
        "\n",
        "# Show the first few rows of the DataFrame\n",
        "parquet_df.show()\n",
        "\n",
        "# Print the schema to verify the structure\n",
        "parquet_df.printSchema()"
      ]
    },
    {
      "cell_type": "code",
      "execution_count": 17,
      "metadata": {
        "id": "J6MJkHfvVcvh",
        "colab": {
          "base_uri": "https://localhost:8080/"
        },
        "outputId": "1271d217-0b66-4e3c-931b-f049767c19cd"
      },
      "outputs": [
        {
          "output_type": "stream",
          "name": "stdout",
          "text": [
            "+--------------------+----------+------+--------+---------+-----------+--------+------+----------+----+----------+\n",
            "|                  id|      date| price|bedrooms|bathrooms|sqft_living|sqft_lot|floors|waterfront|view|date_built|\n",
            "+--------------------+----------+------+--------+---------+-----------+--------+------+----------+----+----------+\n",
            "|2ed8d509-7372-46d...|2021-08-06|258710|       3|        3|       1918|    9666|     1|         0|  25|      2015|\n",
            "|941bad30-eb49-4a7...|2020-05-09|229896|       3|        3|       2197|    8641|     1|         0|   3|      2015|\n",
            "|c797ca12-52cd-4b1...|2019-06-08|288650|       2|        3|       2100|   10419|     2|         0|   7|      2015|\n",
            "|0cfe57f3-28c2-472...|2019-10-04|308313|       3|        3|       1960|    9453|     2|         0|   2|      2015|\n",
            "|d715f295-2fbf-4e9...|2021-05-17|391574|       3|        2|       1635|    8040|     2|         0|  10|      2015|\n",
            "|a18515a2-86f3-46b...|2022-02-18|419543|       3|        2|       1642|   12826|     2|         0|  24|      2015|\n",
            "|98f6a9ad-8870-474...|2022-05-07|136752|       2|        3|       1701|   10771|     2|         0|   5|      2015|\n",
            "|7ac67498-b6f3-403...|2021-05-12|349318|       4|        3|       2417|   11304|     2|         0|  37|      2015|\n",
            "|c9bfdb1c-2499-4e3...|2021-12-07|268874|       2|        2|       1537|   12177|     1|         0|  10|      2015|\n",
            "|34c31a34-220d-469...|2019-02-06|409011|       3|        3|       2356|   10507|     1|         0|   1|      2015|\n",
            "+--------------------+----------+------+--------+---------+-----------+--------+------+----------+----+----------+\n",
            "\n"
          ]
        }
      ],
      "source": [
        "# 12. Create a temporary table for the parquet data.\n",
        "\n",
        "parquet_df.createOrReplaceTempView(\"parquet_home_sales\")\n",
        "\n",
        "# Verify the table creation by querying it\n",
        "query_result = spark.sql(\"SELECT * FROM parquet_home_sales LIMIT 10\")\n",
        "query_result.show()\n"
      ]
    },
    {
      "cell_type": "code",
      "execution_count": 20,
      "metadata": {
        "colab": {
          "base_uri": "https://localhost:8080/"
        },
        "id": "G_Vhb52rU1Sn",
        "outputId": "2da9c8aa-b19b-4c4f-d7a8-0c85290b5fac"
      },
      "outputs": [
        {
          "output_type": "stream",
          "name": "stdout",
          "text": [
            "+----+----------+\n",
            "|view| avg_price|\n",
            "+----+----------+\n",
            "| 100| 1026669.5|\n",
            "|  99|1061201.42|\n",
            "|  98|1053739.33|\n",
            "|  97|1129040.15|\n",
            "|  96|1017815.92|\n",
            "|  95| 1054325.6|\n",
            "|  94| 1033536.2|\n",
            "|  93|1026006.06|\n",
            "|  92| 970402.55|\n",
            "|  91|1137372.73|\n",
            "|  90|1062654.16|\n",
            "|  89|1107839.15|\n",
            "|  88|1031719.35|\n",
            "|  87| 1072285.2|\n",
            "|  86|1070444.25|\n",
            "|  85|1056336.74|\n",
            "|  84|1117233.13|\n",
            "|  83|1033965.93|\n",
            "|  82| 1063498.0|\n",
            "|  81|1053472.79|\n",
            "+----+----------+\n",
            "only showing top 20 rows\n",
            "\n",
            "--- Parquet query runtime: 0.8603589534759521 seconds ---\n",
            "Performance difference: 0.08 seconds\n"
          ]
        }
      ],
      "source": [
        "# 13. Using the parquet DataFrame, run the last query above, that calculates\n",
        "# the average price of a home per \"view\" rating, rounded to two decimal places,\n",
        "# having an average home price greater than or equal to $350,000.\n",
        "# Determine the runtime and compare it to the cached runtime.\n",
        "\n",
        "start_time = time.time()\n",
        "\n",
        "query = \"\"\"\n",
        "SELECT\n",
        "    view,\n",
        "    ROUND(AVG(price), 2) AS avg_price\n",
        "FROM\n",
        "    parquet_home_sales\n",
        "GROUP BY\n",
        "    view\n",
        "HAVING\n",
        "    AVG(price) >= 350000\n",
        "ORDER BY\n",
        "    view DESC\n",
        "\"\"\"\n",
        "\n",
        "# Execute the query on the Parquet DataFrame\n",
        "parquet_result = spark.sql(query)\n",
        "\n",
        "# Show the results\n",
        "parquet_result.show()\n",
        "\n",
        "# Stop the timer and calculate runtime\n",
        "parquet_runtime = time.time() - start_time\n",
        "print(\"--- Parquet query runtime: %s seconds ---\" % parquet_runtime)\n",
        "\n",
        "# Compare with cached runtime\n",
        "\n",
        "cached_runtime = 0.7785050868988037\n",
        "\n",
        "# Compare runtimes\n",
        "print(f\"Performance difference: {parquet_runtime - cached_runtime:.2f} seconds\")\n"
      ]
    },
    {
      "cell_type": "code",
      "execution_count": 21,
      "metadata": {
        "colab": {
          "base_uri": "https://localhost:8080/"
        },
        "id": "hjjYzQGjtbq8",
        "outputId": "2b86f36f-cd84-4109-c567-a243315dd596"
      },
      "outputs": [
        {
          "output_type": "execute_result",
          "data": {
            "text/plain": [
              "DataFrame[]"
            ]
          },
          "metadata": {},
          "execution_count": 21
        }
      ],
      "source": [
        "# 14. Uncache the home_sales temporary table.\n",
        "\n",
        "spark.sql(\"UNCACHE TABLE home_sales\")\n"
      ]
    },
    {
      "cell_type": "code",
      "execution_count": 22,
      "metadata": {
        "colab": {
          "base_uri": "https://localhost:8080/"
        },
        "id": "Sy9NBvO7tlmm",
        "outputId": "8f962bbc-17fd-42cf-acec-37cdfcde1026"
      },
      "outputs": [
        {
          "output_type": "stream",
          "name": "stdout",
          "text": [
            "Is 'home_sales' table cached? False\n"
          ]
        }
      ],
      "source": [
        "# 15. Check if the home_sales is no longer cached\n",
        "is_cached = spark.catalog.isCached(\"home_sales\")\n",
        "print(f\"Is 'home_sales' table cached? {is_cached}\")\n"
      ]
    },
    {
      "cell_type": "code",
      "source": [
        "# Zip the partitioned folder\n",
        "!zip -r your_folder.zip /content/drive/MyDrive/Home_Sales_Partioned\n"
      ],
      "metadata": {
        "colab": {
          "base_uri": "https://localhost:8080/"
        },
        "id": "L4JNE56ldG-f",
        "outputId": "136c9491-edd5-45af-d326-82df08b65e08"
      },
      "execution_count": 34,
      "outputs": [
        {
          "output_type": "stream",
          "name": "stdout",
          "text": [
            "  adding: content/drive/MyDrive/Home_Sales_Partioned/ (stored 0%)\n",
            "  adding: content/drive/MyDrive/Home_Sales_Partioned/date_built=2010/ (stored 0%)\n",
            "  adding: content/drive/MyDrive/Home_Sales_Partioned/date_built=2010/part-00000-bc585395-6e39-4280-9061-f4d9ebcaaba6.c000.snappy.parquet (deflated 24%)\n",
            "  adding: content/drive/MyDrive/Home_Sales_Partioned/date_built=2010/.part-00000-bc585395-6e39-4280-9061-f4d9ebcaaba6.c000.snappy.parquet.crc (stored 0%)\n",
            "  adding: content/drive/MyDrive/Home_Sales_Partioned/date_built=2011/ (stored 0%)\n",
            "  adding: content/drive/MyDrive/Home_Sales_Partioned/date_built=2011/part-00000-bc585395-6e39-4280-9061-f4d9ebcaaba6.c000.snappy.parquet (deflated 24%)\n",
            "  adding: content/drive/MyDrive/Home_Sales_Partioned/date_built=2011/.part-00000-bc585395-6e39-4280-9061-f4d9ebcaaba6.c000.snappy.parquet.crc (stored 0%)\n",
            "  adding: content/drive/MyDrive/Home_Sales_Partioned/date_built=2012/ (stored 0%)\n",
            "  adding: content/drive/MyDrive/Home_Sales_Partioned/date_built=2012/part-00000-bc585395-6e39-4280-9061-f4d9ebcaaba6.c000.snappy.parquet (deflated 24%)\n",
            "  adding: content/drive/MyDrive/Home_Sales_Partioned/date_built=2012/.part-00000-bc585395-6e39-4280-9061-f4d9ebcaaba6.c000.snappy.parquet.crc (stored 0%)\n",
            "  adding: content/drive/MyDrive/Home_Sales_Partioned/date_built=2013/ (stored 0%)\n",
            "  adding: content/drive/MyDrive/Home_Sales_Partioned/date_built=2013/part-00000-bc585395-6e39-4280-9061-f4d9ebcaaba6.c000.snappy.parquet (deflated 24%)\n",
            "  adding: content/drive/MyDrive/Home_Sales_Partioned/date_built=2013/.part-00000-bc585395-6e39-4280-9061-f4d9ebcaaba6.c000.snappy.parquet.crc (stored 0%)\n",
            "  adding: content/drive/MyDrive/Home_Sales_Partioned/date_built=2014/ (stored 0%)\n",
            "  adding: content/drive/MyDrive/Home_Sales_Partioned/date_built=2014/part-00000-bc585395-6e39-4280-9061-f4d9ebcaaba6.c000.snappy.parquet (deflated 24%)\n",
            "  adding: content/drive/MyDrive/Home_Sales_Partioned/date_built=2014/.part-00000-bc585395-6e39-4280-9061-f4d9ebcaaba6.c000.snappy.parquet.crc (stored 0%)\n",
            "  adding: content/drive/MyDrive/Home_Sales_Partioned/date_built=2015/ (stored 0%)\n",
            "  adding: content/drive/MyDrive/Home_Sales_Partioned/date_built=2015/part-00000-bc585395-6e39-4280-9061-f4d9ebcaaba6.c000.snappy.parquet (deflated 24%)\n",
            "  adding: content/drive/MyDrive/Home_Sales_Partioned/date_built=2015/.part-00000-bc585395-6e39-4280-9061-f4d9ebcaaba6.c000.snappy.parquet.crc (stored 0%)\n",
            "  adding: content/drive/MyDrive/Home_Sales_Partioned/date_built=2016/ (stored 0%)\n",
            "  adding: content/drive/MyDrive/Home_Sales_Partioned/date_built=2016/part-00000-bc585395-6e39-4280-9061-f4d9ebcaaba6.c000.snappy.parquet (deflated 24%)\n",
            "  adding: content/drive/MyDrive/Home_Sales_Partioned/date_built=2016/.part-00000-bc585395-6e39-4280-9061-f4d9ebcaaba6.c000.snappy.parquet.crc (stored 0%)\n",
            "  adding: content/drive/MyDrive/Home_Sales_Partioned/date_built=2017/ (stored 0%)\n",
            "  adding: content/drive/MyDrive/Home_Sales_Partioned/date_built=2017/part-00000-bc585395-6e39-4280-9061-f4d9ebcaaba6.c000.snappy.parquet (deflated 24%)\n",
            "  adding: content/drive/MyDrive/Home_Sales_Partioned/date_built=2017/.part-00000-bc585395-6e39-4280-9061-f4d9ebcaaba6.c000.snappy.parquet.crc (stored 0%)\n",
            "  adding: content/drive/MyDrive/Home_Sales_Partioned/_SUCCESS (stored 0%)\n",
            "  adding: content/drive/MyDrive/Home_Sales_Partioned/._SUCCESS.crc (stored 0%)\n"
          ]
        }
      ]
    }
  ],
  "metadata": {
    "colab": {
      "provenance": []
    },
    "kernelspec": {
      "display_name": "Python 3 (ipykernel)",
      "language": "python",
      "name": "python3"
    },
    "language_info": {
      "codemirror_mode": {
        "name": "ipython",
        "version": 3
      },
      "file_extension": ".py",
      "mimetype": "text/x-python",
      "name": "python",
      "nbconvert_exporter": "python",
      "pygments_lexer": "ipython3",
      "version": "3.10.4"
    },
    "nteract": {
      "version": "0.28.0"
    }
  },
  "nbformat": 4,
  "nbformat_minor": 0
}